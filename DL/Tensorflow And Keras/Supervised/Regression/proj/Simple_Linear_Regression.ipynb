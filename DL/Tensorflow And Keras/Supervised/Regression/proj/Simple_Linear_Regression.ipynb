{
  "nbformat": 4,
  "nbformat_minor": 0,
  "metadata": {
    "colab": {
      "name": "Simple Linear Regression.ipynb",
      "provenance": [],
      "collapsed_sections": []
    },
    "kernelspec": {
      "name": "python3",
      "display_name": "Python 3"
    }
  },
  "cells": [
    {
      "cell_type": "code",
      "metadata": {
        "id": "IuaZa5vluiv6",
        "colab_type": "code",
        "colab": {}
      },
      "source": [
        "import tensorflow as tf\n",
        "import numpy\n",
        "import matplotlib.pyplot as plt\n",
        "rng = numpy.random"
      ],
      "execution_count": 0,
      "outputs": []
    },
    {
      "cell_type": "code",
      "metadata": {
        "id": "9mk6wK6Yuv5v",
        "colab_type": "code",
        "colab": {}
      },
      "source": [
        "learning_rate = 0.01\n",
        "training_epochs = 1000\n",
        "display_step = 50"
      ],
      "execution_count": 0,
      "outputs": []
    },
    {
      "cell_type": "code",
      "metadata": {
        "id": "rxTpLf0wvbGi",
        "colab_type": "code",
        "colab": {}
      },
      "source": [
        "train_X = numpy.asarray([3.3,4.4,5.5,6.71,6.93,4.168,9.779,6.182,7.59,2.167,\n",
        "                         7.042,10.791,5.313,7.997,5.654,9.27,3.1])\n",
        "train_Y = numpy.asarray([1.7,2.76,2.09,3.19,1.694,1.573,3.366,2.596,2.53,1.221,\n",
        "                         2.827,3.465,1.65,2.904,2.42,2.94,1.3])\n",
        "n_samples = train_X.shape[0]"
      ],
      "execution_count": 0,
      "outputs": []
    },
    {
      "cell_type": "code",
      "metadata": {
        "id": "pyLNEDzzvjQl",
        "colab_type": "code",
        "colab": {}
      },
      "source": [
        "# tf Graph Input\n",
        "X = tf.placeholder(\"float\")\n",
        "Y = tf.placeholder(\"float\")\n",
        "\n",
        "# Set model weights\n",
        "W = tf.Variable(rng.randn(), name=\"weight\")\n",
        "b = tf.Variable(rng.randn(), name=\"bias\")"
      ],
      "execution_count": 0,
      "outputs": []
    },
    {
      "cell_type": "code",
      "metadata": {
        "id": "Cd-tybIhvr1F",
        "colab_type": "code",
        "colab": {}
      },
      "source": [
        "# Construct a linear model\n",
        "pred = tf.add(tf.multiply(X, W), b)"
      ],
      "execution_count": 0,
      "outputs": []
    },
    {
      "cell_type": "code",
      "metadata": {
        "id": "4En9NVomvsaG",
        "colab_type": "code",
        "colab": {}
      },
      "source": [
        "\n",
        "# Mean squared error\n",
        "cost = tf.reduce_sum(tf.pow(pred-Y, 2))/(2*n_samples)\n",
        "# Gradient descent\n",
        "optimizer = tf.train.GradientDescentOptimizer(learning_rate).minimize(cost)"
      ],
      "execution_count": 0,
      "outputs": []
    },
    {
      "cell_type": "code",
      "metadata": {
        "id": "BfTr3I7Lwn6h",
        "colab_type": "code",
        "colab": {}
      },
      "source": [
        "init = tf.global_variables_initializer()"
      ],
      "execution_count": 0,
      "outputs": []
    },
    {
      "cell_type": "code",
      "metadata": {
        "id": "zMuFRs26wACE",
        "colab_type": "code",
        "colab": {
          "base_uri": "https://localhost:8080/",
          "height": 664
        },
        "outputId": "3fcd7fd0-006d-480d-9b40-0bb51e97f896"
      },
      "source": [
        "# Start training\n",
        "with tf.Session() as sess:\n",
        "    sess.run(init)\n",
        "\n",
        "    # Fit all training data\n",
        "    for epoch in range(training_epochs):\n",
        "        for (x, y) in zip(train_X, train_Y):\n",
        "            sess.run(optimizer, feed_dict={X: x, Y: y})\n",
        "\n",
        "        #Display logs per epoch step\n",
        "        if (epoch+1) % display_step == 0:\n",
        "            c = sess.run(cost, feed_dict={X: train_X, Y:train_Y})\n",
        "            print(\"Epoch:\", '%04d' % (epoch+1), \"cost=\", \"{:.9f}\".format(c), \\\n",
        "                \"W=\", sess.run(W), \"b=\", sess.run(b))\n",
        "\n",
        "\n",
        "    print(\"Optimization Finished!\")\n",
        "    training_cost = sess.run(cost, feed_dict={X: train_X, Y: train_Y})\n",
        "    print(\"Training cost=\", training_cost, \"W=\", sess.run(W), \"b=\", sess.run(b), '\\n')\n",
        "\n",
        "    #Graphic display\n",
        "    plt.plot(train_X, train_Y, 'ro', label='Original data')\n",
        "    plt.plot(train_X, sess.run(W) * train_X + sess.run(b), label='Fitted line')\n",
        "    plt.legend()\n",
        "    plt.show()"
      ],
      "execution_count": 35,
      "outputs": [
        {
          "output_type": "stream",
          "text": [
            "Epoch: 0050 cost= 0.307567596 W= 0.51798874 b= -1.129349\n",
            "Epoch: 0100 cost= 0.280934006 W= 0.50202614 b= -1.014515\n",
            "Epoch: 0150 cost= 0.257375360 W= 0.48701274 b= -0.9065099\n",
            "Epoch: 0200 cost= 0.236536875 W= 0.47289228 b= -0.8049282\n",
            "Epoch: 0250 cost= 0.218104765 W= 0.45961168 b= -0.70938873\n",
            "Epoch: 0300 cost= 0.201800838 W= 0.44712088 b= -0.61953056\n",
            "Epoch: 0350 cost= 0.187379956 W= 0.43537316 b= -0.5350184\n",
            "Epoch: 0400 cost= 0.174624145 W= 0.42432392 b= -0.45553103\n",
            "Epoch: 0450 cost= 0.163341492 W= 0.4139319 b= -0.38077152\n",
            "Epoch: 0500 cost= 0.153361827 W= 0.40415794 b= -0.31045803\n",
            "Epoch: 0550 cost= 0.144534796 W= 0.39496523 b= -0.24432686\n",
            "Epoch: 0600 cost= 0.136727244 W= 0.38631934 b= -0.18212856\n",
            "Epoch: 0650 cost= 0.129821524 W= 0.37818763 b= -0.123629555\n",
            "Epoch: 0700 cost= 0.123713493 W= 0.37053946 b= -0.06860966\n",
            "Epoch: 0750 cost= 0.118310995 W= 0.36334628 b= -0.016862134\n",
            "Epoch: 0800 cost= 0.113532655 W= 0.35658088 b= 0.03180772\n",
            "Epoch: 0850 cost= 0.109306335 W= 0.35021785 b= 0.07758291\n",
            "Epoch: 0900 cost= 0.105568334 W= 0.3442332 b= 0.12063575\n",
            "Epoch: 0950 cost= 0.102262221 W= 0.3386045 b= 0.16112807\n",
            "Epoch: 1000 cost= 0.099338137 W= 0.3333107 b= 0.19921201\n",
            "Optimization Finished!\n",
            "Training cost= 0.09933814 W= 0.3333107 b= 0.19921201 \n",
            "\n"
          ],
          "name": "stdout"
        },
        {
          "output_type": "display_data",
          "data": {
            "image/png": "[encoded data removed]",
            "text/plain": [
              "<Figure size 432x288 with 1 Axes>"
            ]
          },
          "metadata": {
            "tags": []
          }
        }
      ]
    },
    {
      "cell_type": "code",
      "metadata": {
        "id": "sKTZumH2whhx",
        "colab_type": "code",
        "colab": {}
      },
      "source": [
        ""
      ],
      "execution_count": 0,
      "outputs": []
    },
    {
      "cell_type": "code",
      "metadata": {
        "id": "W6NhB7n1w05S",
        "colab_type": "code",
        "colab": {}
      },
      "source": [
        ""
      ],
      "execution_count": 0,
      "outputs": []
    },
    {
      "cell_type": "code",
      "metadata": {
        "id": "X9IfN7E2w4xG",
        "colab_type": "code",
        "colab": {}
      },
      "source": [
        ""
      ],
      "execution_count": 0,
      "outputs": []
    }
  ]
}