{
 "cells": [
  {
   "cell_type": "code",
   "execution_count": 2,
   "metadata": {},
   "outputs": [],
   "source": [
    "import torch\n",
    "import torchvision\n",
    "import torchvision.transforms as transforms"
   ]
  },
  {
   "cell_type": "code",
   "execution_count": 4,
   "metadata": {},
   "outputs": [
    {
     "name": "stdout",
     "output_type": "stream",
     "text": [
      "Downloading http://fashion-mnist.s3-website.eu-central-1.amazonaws.com/train-images-idx3-ubyte.gz to ./data/FashionMNIST\\FashionMNIST\\raw\\train-images-idx3-ubyte.gz\n"
     ]
    },
    {
     "name": "stderr",
     "output_type": "stream",
     "text": [
      "\n",
      "0it [00:00, ?it/s]\n",
      "  0%|                                                                                     | 0/26421880 [00:00<?, ?it/s]\n",
      "  0%|                                                                     | 16384/26421880 [00:00<04:13, 104277.63it/s]\n",
      "  0%|▏                                                                    | 49152/26421880 [00:00<03:35, 122269.08it/s]\n",
      "  0%|▎                                                                   | 106496/26421880 [00:00<02:52, 152504.23it/s]\n",
      "  1%|▌                                                                   | 229376/26421880 [00:01<02:10, 200628.44it/s]\n",
      "  2%|█▏                                                                  | 466944/26421880 [00:01<01:35, 270916.47it/s]\n",
      "  3%|█▉                                                                  | 729088/26421880 [00:01<01:11, 361401.16it/s]\n",
      "  4%|██▌                                                                | 1032192/26421880 [00:01<00:59, 427910.41it/s]\n",
      "  9%|██████▎                                                            | 2498560/26421880 [00:01<00:39, 603744.63it/s]\n",
      " 11%|███████▌                                                           | 3006464/26421880 [00:02<00:31, 746795.64it/s]\n",
      " 15%|█████████▊                                                        | 3948544/26421880 [00:02<00:21, 1031781.42it/s]\n",
      " 17%|███████████▎                                                      | 4513792/26421880 [00:02<00:16, 1298185.99it/s]\n",
      " 19%|████████████▌                                                     | 5013504/26421880 [00:02<00:13, 1571025.15it/s]\n",
      " 21%|█████████████▋                                                    | 5455872/26421880 [00:02<00:11, 1819477.50it/s]\n",
      " 22%|██████████████▌                                                   | 5849088/26421880 [00:02<00:10, 2022856.97it/s]\n",
      " 24%|███████████████▌                                                  | 6209536/26421880 [00:03<00:09, 2188274.67it/s]\n",
      " 25%|████████████████▍                                                 | 6561792/26421880 [00:03<00:08, 2468388.39it/s]\n",
      " 26%|█████████████████▎                                                | 6922240/26421880 [00:03<00:07, 2719958.12it/s]\n",
      " 28%|██████████████████▏                                               | 7266304/26421880 [00:03<00:07, 2722821.67it/s]\n",
      " 29%|███████████████████                                               | 7618560/26421880 [00:03<00:06, 2900035.80it/s]\n",
      " 30%|███████████████████▉                                              | 7995392/26421880 [00:03<00:05, 3106440.18it/s]\n",
      " 32%|████████████████████▊                                             | 8339456/26421880 [00:03<00:06, 2999035.41it/s]\n",
      " 33%|█████████████████████▋                                            | 8691712/26421880 [00:03<00:05, 3124737.69it/s]\n",
      " 34%|██████████████████████▋                                           | 9084928/26421880 [00:03<00:05, 3329509.85it/s]\n",
      " 36%|███████████████████████▌                                          | 9437184/26421880 [00:03<00:05, 3165633.60it/s]\n",
      " 37%|████████████████████████▍                                         | 9789440/26421880 [00:04<00:05, 3246407.52it/s]\n",
      " 39%|█████████████████████████                                        | 10182656/26421880 [00:04<00:04, 3422969.20it/s]\n",
      " 40%|█████████████████████████▉                                       | 10534912/26421880 [00:04<00:04, 3264345.43it/s]\n",
      " 41%|██████████████████████████▊                                      | 10887168/26421880 [00:04<00:04, 3337034.06it/s]\n",
      " 43%|███████████████████████████▋                                     | 11264000/26421880 [00:04<00:04, 3455228.60it/s]\n",
      " 44%|████████████████████████████▌                                    | 11616256/26421880 [00:04<00:04, 3326993.64it/s]\n",
      " 45%|█████████████████████████████▍                                   | 11976704/26421880 [00:04<00:04, 3370283.50it/s]\n",
      " 47%|██████████████████████████████▍                                  | 12369920/26421880 [00:04<00:03, 3520507.91it/s]\n",
      " 48%|███████████████████████████████▎                                 | 12730368/26421880 [00:04<00:04, 3385387.41it/s]\n",
      " 50%|████████████████████████████████▏                                | 13090816/26421880 [00:05<00:03, 3418362.93it/s]\n",
      " 51%|█████████████████████████████████▏                               | 13492224/26421880 [00:05<00:03, 3570103.46it/s]\n",
      " 52%|██████████████████████████████████                               | 13860864/26421880 [00:05<00:03, 3375944.47it/s]\n",
      " 54%|███████████████████████████████████                              | 14229504/26421880 [00:05<00:03, 3462681.32it/s]\n",
      " 55%|████████████████████████████████████                             | 14639104/26421880 [00:05<00:03, 3619240.08it/s]\n",
      " 57%|████████████████████████████████████▉                            | 15007744/26421880 [00:05<00:03, 3369107.16it/s]\n",
      " 58%|█████████████████████████████████████▊                           | 15392768/26421880 [00:05<00:03, 3480666.61it/s]\n",
      " 60%|██████████████████████████████████████▊                          | 15753216/26421880 [00:05<00:03, 3478144.84it/s]\n",
      " 61%|███████████████████████████████████████▌                         | 16105472/26421880 [00:05<00:03, 3434337.29it/s]\n",
      " 62%|████████████████████████████████████████▌                        | 16490496/26421880 [00:06<00:02, 3545928.74it/s]\n",
      " 64%|█████████████████████████████████████████▍                       | 16850944/26421880 [00:06<00:02, 3460603.92it/s]\n",
      " 65%|██████████████████████████████████████████▎                      | 17211392/26421880 [00:06<00:02, 3491655.60it/s]\n",
      " 67%|███████████████████████████████████████████▎                     | 17612800/26421880 [00:06<00:02, 3613256.83it/s]\n",
      " 68%|████████████████████████████████████████████▏                    | 17981440/26421880 [00:06<00:02, 3509910.88it/s]\n",
      " 69%|█████████████████████████████████████████████▏                   | 18358272/26421880 [00:06<00:02, 3522788.37it/s]\n",
      " 71%|██████████████████████████████████████████████▏                  | 18759680/26421880 [00:06<00:02, 3642501.34it/s]\n",
      " 72%|███████████████████████████████████████████████                  | 19128320/26421880 [00:06<00:02, 3518937.07it/s]\n",
      " 74%|███████████████████████████████████████████████▉                 | 19505152/26421880 [00:06<00:01, 3538855.63it/s]\n",
      " 75%|████████████████████████████████████████████████▉                | 19898368/26421880 [00:06<00:01, 3647900.19it/s]\n",
      " 77%|█████████████████████████████████████████████████▊               | 20267008/26421880 [00:07<00:01, 3532963.60it/s]\n",
      " 78%|██████████████████████████████████████████████████▋              | 20627456/26421880 [00:07<00:01, 3553282.75it/s]\n",
      " 80%|███████████████████████████████████████████████████▋             | 21028864/26421880 [00:07<00:01, 3679960.34it/s]\n",
      " 81%|████████████████████████████████████████████████████▋            | 21405696/26421880 [00:07<00:01, 3538680.57it/s]\n",
      " 82%|█████████████████████████████████████████████████████▌           | 21766144/26421880 [00:07<00:01, 3536263.04it/s]\n",
      " 84%|██████████████████████████████████████████████████████▌          | 22159360/26421880 [00:07<00:01, 3646005.27it/s]\n",
      " 85%|███████████████████████████████████████████████████████▍         | 22528000/26421880 [00:07<00:01, 3562108.58it/s]\n",
      " 87%|████████████████████████████████████████████████████████▎        | 22888448/26421880 [00:07<00:00, 3542695.29it/s]\n",
      " 88%|█████████████████████████████████████████████████████████▎       | 23289856/26421880 [00:07<00:00, 3671557.91it/s]\n",
      " 90%|██████████████████████████████████████████████████████████▏      | 23666688/26421880 [00:08<00:00, 3494084.28it/s]\n",
      " 91%|███████████████████████████████████████████████████████████▏     | 24035328/26421880 [00:08<00:00, 3549096.92it/s]\n",
      " 92%|████████████████████████████████████████████████████████████     | 24436736/26421880 [00:08<00:00, 3676508.28it/s]\n",
      " 94%|█████████████████████████████████████████████████████████████    | 24813568/26421880 [00:08<00:00, 3496557.42it/s]\n",
      " 95%|█████████████████████████████████████████████████████████████▉   | 25190400/26421880 [00:08<00:00, 3563314.91it/s]\n",
      " 97%|██████████████████████████████████████████████████████████████▉  | 25583616/26421880 [00:08<00:00, 3666434.67it/s]\n"
     ]
    },
    {
     "name": "stderr",
     "output_type": "stream",
     "text": [
      " 98%|███████████████████████████████████████████████████████████████▊ | 25960448/26421880 [00:08<00:00, 3500176.45it/s]\n",
      "100%|████████████████████████████████████████████████████████████████▊| 26337280/26421880 [00:08<00:00, 3566529.30it/s]"
     ]
    },
    {
     "name": "stdout",
     "output_type": "stream",
     "text": [
      "Extracting ./data/FashionMNIST\\FashionMNIST\\raw\\train-images-idx3-ubyte.gz to ./data/FashionMNIST\\FashionMNIST\\raw\n",
      "Downloading http://fashion-mnist.s3-website.eu-central-1.amazonaws.com/train-labels-idx1-ubyte.gz to ./data/FashionMNIST\\FashionMNIST\\raw\\train-labels-idx1-ubyte.gz\n"
     ]
    },
    {
     "name": "stderr",
     "output_type": "stream",
     "text": [
      "\n",
      "\n",
      "0it [00:00, ?it/s]\n",
      "\n",
      "  0%|                                                                                        | 0/29515 [00:00<?, ?it/s]\n",
      "\n",
      "32768it [00:00, 59769.87it/s]                                                                                          \n"
     ]
    },
    {
     "name": "stdout",
     "output_type": "stream",
     "text": [
      "Extracting ./data/FashionMNIST\\FashionMNIST\\raw\\train-labels-idx1-ubyte.gz to ./data/FashionMNIST\\FashionMNIST\\raw\n",
      "Downloading http://fashion-mnist.s3-website.eu-central-1.amazonaws.com/t10k-images-idx3-ubyte.gz to ./data/FashionMNIST\\FashionMNIST\\raw\\t10k-images-idx3-ubyte.gz\n"
     ]
    },
    {
     "name": "stderr",
     "output_type": "stream",
     "text": [
      "\n",
      "\n",
      "0it [00:00, ?it/s]\n",
      "\n",
      "  0%|                                                                                      | 0/4422102 [00:00<?, ?it/s]\n",
      "\n",
      "  0%|▎                                                                     | 16384/4422102 [00:00<00:42, 103854.33it/s]\n",
      "\n",
      "  1%|▊                                                                     | 49152/4422102 [00:00<00:35, 122012.20it/s]\n",
      "\n",
      "  2%|█▋                                                                   | 106496/4422102 [00:00<00:28, 152430.51it/s]\n",
      "\n",
      "  5%|███▌                                                                 | 229376/4422102 [00:00<00:20, 200778.97it/s]\n",
      "\n",
      " 11%|███████▎                                                             | 466944/4422102 [00:01<00:14, 271108.60it/s]\n",
      "\n",
      " 16%|███████████▍                                                         | 729088/4422102 [00:01<00:10, 361940.44it/s]\n",
      "\n",
      " 23%|███████████████▍                                                    | 1007616/4422102 [00:01<00:07, 459686.95it/s]\n",
      "\n",
      " 25%|█████████████████▏                                                  | 1114112/4422102 [00:01<00:06, 501652.80it/s]\n",
      "\n",
      " 55%|█████████████████████████████████████▎                              | 2424832/4422102 [00:01<00:02, 698535.33it/s]\n",
      "\n",
      " 62%|██████████████████████████████████████████▏                         | 2744320/4422102 [00:02<00:02, 767060.41it/s]\n",
      "\n",
      " 70%|███████████████████████████████████████████████▍                    | 3088384/4422102 [00:02<00:01, 955217.20it/s]\n",
      "\n",
      " 87%|██████████████████████████████████████████████████████████▍        | 3858432/4422102 [00:02<00:00, 1258173.37it/s]\n",
      "\n",
      "4423680it [00:02, 1677512.88it/s]                                                                                      \n"
     ]
    },
    {
     "name": "stdout",
     "output_type": "stream",
     "text": [
      "Extracting ./data/FashionMNIST\\FashionMNIST\\raw\\t10k-images-idx3-ubyte.gz to ./data/FashionMNIST\\FashionMNIST\\raw\n",
      "Downloading http://fashion-mnist.s3-website.eu-central-1.amazonaws.com/t10k-labels-idx1-ubyte.gz to ./data/FashionMNIST\\FashionMNIST\\raw\\t10k-labels-idx1-ubyte.gz\n"
     ]
    },
    {
     "name": "stderr",
     "output_type": "stream",
     "text": [
      "\n",
      "\n",
      "0it [00:00, ?it/s]\n",
      "\n",
      "8192it [00:00, 25005.94it/s]                                                                                           \n"
     ]
    },
    {
     "name": "stdout",
     "output_type": "stream",
     "text": [
      "Extracting ./data/FashionMNIST\\FashionMNIST\\raw\\t10k-labels-idx1-ubyte.gz to ./data/FashionMNIST\\FashionMNIST\\raw\n",
      "Processing...\n",
      "Done!\n"
     ]
    },
    {
     "name": "stderr",
     "output_type": "stream",
     "text": [
      "\n",
      "26427392it [00:25, 3566529.30it/s]                                                                                     "
     ]
    }
   ],
   "source": [
    "train_set = torchvision.datasets.FashionMNIST(root = \"./data/FashionMNIST\",\n",
    "                                             train = True,\n",
    "                                             download = True,\n",
    "                                             transform = transforms.Compose([transforms.ToTensor()])\n",
    "                                             )"
   ]
  },
  {
   "cell_type": "code",
   "execution_count": 6,
   "metadata": {},
   "outputs": [
    {
     "data": {
      "text/plain": [
       "Dataset FashionMNIST\n",
       "    Number of datapoints: 60000\n",
       "    Root location: ./data/FashionMNIST\n",
       "    Split: Train\n",
       "    StandardTransform\n",
       "Transform: Compose(\n",
       "               ToTensor()\n",
       "           )"
      ]
     },
     "execution_count": 6,
     "metadata": {},
     "output_type": "execute_result"
    }
   ],
   "source": [
    "train_set"
   ]
  },
  {
   "cell_type": "code",
   "execution_count": 7,
   "metadata": {},
   "outputs": [
    {
     "name": "stderr",
     "output_type": "stream",
     "text": [
      "C:\\Users\\iad7kor\\AppData\\Local\\Continuum\\anaconda3\\lib\\site-packages\\torchvision\\datasets\\mnist.py:43: UserWarning: train_labels has been renamed targets\n",
      "  warnings.warn(\"train_labels has been renamed targets\")\n"
     ]
    },
    {
     "data": {
      "text/plain": [
       "tensor([9, 0, 0,  ..., 3, 0, 5])"
      ]
     },
     "execution_count": 7,
     "metadata": {},
     "output_type": "execute_result"
    }
   ],
   "source": [
    "train_set.train_labels"
   ]
  },
  {
   "cell_type": "code",
   "execution_count": 8,
   "metadata": {},
   "outputs": [
    {
     "name": "stderr",
     "output_type": "stream",
     "text": [
      "C:\\Users\\iad7kor\\AppData\\Local\\Continuum\\anaconda3\\lib\\site-packages\\torchvision\\datasets\\mnist.py:43: UserWarning: train_labels has been renamed targets\n",
      "  warnings.warn(\"train_labels has been renamed targets\")\n"
     ]
    },
    {
     "data": {
      "text/plain": [
       "tensor([6000, 6000, 6000, 6000, 6000, 6000, 6000, 6000, 6000, 6000])"
      ]
     },
     "execution_count": 8,
     "metadata": {},
     "output_type": "execute_result"
    }
   ],
   "source": [
    "train_set.train_labels.bincount()"
   ]
  },
  {
   "cell_type": "code",
   "execution_count": 9,
   "metadata": {},
   "outputs": [],
   "source": [
    "sample = next(iter(train_set))"
   ]
  },
  {
   "cell_type": "code",
   "execution_count": 11,
   "metadata": {},
   "outputs": [
    {
     "data": {
      "text/plain": [
       "tuple"
      ]
     },
     "execution_count": 11,
     "metadata": {},
     "output_type": "execute_result"
    }
   ],
   "source": [
    "type(sample)"
   ]
  },
  {
   "cell_type": "code",
   "execution_count": 12,
   "metadata": {},
   "outputs": [
    {
     "data": {
      "text/plain": [
       "2"
      ]
     },
     "execution_count": 12,
     "metadata": {},
     "output_type": "execute_result"
    }
   ],
   "source": [
    "len(sample)"
   ]
  },
  {
   "cell_type": "code",
   "execution_count": 13,
   "metadata": {},
   "outputs": [],
   "source": [
    "image, label = sample"
   ]
  },
  {
   "cell_type": "code",
   "execution_count": 14,
   "metadata": {},
   "outputs": [
    {
     "data": {
      "text/plain": [
       "tensor([[[0.0000, 0.0000, 0.0000, 0.0000, 0.0000, 0.0000, 0.0000, 0.0000,\n",
       "          0.0000, 0.0000, 0.0000, 0.0000, 0.0000, 0.0000, 0.0000, 0.0000,\n",
       "          0.0000, 0.0000, 0.0000, 0.0000, 0.0000, 0.0000, 0.0000, 0.0000,\n",
       "          0.0000, 0.0000, 0.0000, 0.0000],\n",
       "         [0.0000, 0.0000, 0.0000, 0.0000, 0.0000, 0.0000, 0.0000, 0.0000,\n",
       "          0.0000, 0.0000, 0.0000, 0.0000, 0.0000, 0.0000, 0.0000, 0.0000,\n",
       "          0.0000, 0.0000, 0.0000, 0.0000, 0.0000, 0.0000, 0.0000, 0.0000,\n",
       "          0.0000, 0.0000, 0.0000, 0.0000],\n",
       "         [0.0000, 0.0000, 0.0000, 0.0000, 0.0000, 0.0000, 0.0000, 0.0000,\n",
       "          0.0000, 0.0000, 0.0000, 0.0000, 0.0000, 0.0000, 0.0000, 0.0000,\n",
       "          0.0000, 0.0000, 0.0000, 0.0000, 0.0000, 0.0000, 0.0000, 0.0000,\n",
       "          0.0000, 0.0000, 0.0000, 0.0000],\n",
       "         [0.0000, 0.0000, 0.0000, 0.0000, 0.0000, 0.0000, 0.0000, 0.0000,\n",
       "          0.0000, 0.0000, 0.0000, 0.0000, 0.0039, 0.0000, 0.0000, 0.0510,\n",
       "          0.2863, 0.0000, 0.0000, 0.0039, 0.0157, 0.0000, 0.0000, 0.0000,\n",
       "          0.0000, 0.0039, 0.0039, 0.0000],\n",
       "         [0.0000, 0.0000, 0.0000, 0.0000, 0.0000, 0.0000, 0.0000, 0.0000,\n",
       "          0.0000, 0.0000, 0.0000, 0.0000, 0.0118, 0.0000, 0.1412, 0.5333,\n",
       "          0.4980, 0.2431, 0.2118, 0.0000, 0.0000, 0.0000, 0.0039, 0.0118,\n",
       "          0.0157, 0.0000, 0.0000, 0.0118],\n",
       "         [0.0000, 0.0000, 0.0000, 0.0000, 0.0000, 0.0000, 0.0000, 0.0000,\n",
       "          0.0000, 0.0000, 0.0000, 0.0000, 0.0235, 0.0000, 0.4000, 0.8000,\n",
       "          0.6902, 0.5255, 0.5647, 0.4824, 0.0902, 0.0000, 0.0000, 0.0000,\n",
       "          0.0000, 0.0471, 0.0392, 0.0000],\n",
       "         [0.0000, 0.0000, 0.0000, 0.0000, 0.0000, 0.0000, 0.0000, 0.0000,\n",
       "          0.0000, 0.0000, 0.0000, 0.0000, 0.0000, 0.0000, 0.6078, 0.9255,\n",
       "          0.8118, 0.6980, 0.4196, 0.6118, 0.6314, 0.4275, 0.2510, 0.0902,\n",
       "          0.3020, 0.5098, 0.2824, 0.0588],\n",
       "         [0.0000, 0.0000, 0.0000, 0.0000, 0.0000, 0.0000, 0.0000, 0.0000,\n",
       "          0.0000, 0.0000, 0.0000, 0.0039, 0.0000, 0.2706, 0.8118, 0.8745,\n",
       "          0.8549, 0.8471, 0.8471, 0.6392, 0.4980, 0.4745, 0.4784, 0.5725,\n",
       "          0.5529, 0.3451, 0.6745, 0.2588],\n",
       "         [0.0000, 0.0000, 0.0000, 0.0000, 0.0000, 0.0000, 0.0000, 0.0000,\n",
       "          0.0000, 0.0039, 0.0039, 0.0039, 0.0000, 0.7843, 0.9098, 0.9098,\n",
       "          0.9137, 0.8980, 0.8745, 0.8745, 0.8431, 0.8353, 0.6431, 0.4980,\n",
       "          0.4824, 0.7686, 0.8980, 0.0000],\n",
       "         [0.0000, 0.0000, 0.0000, 0.0000, 0.0000, 0.0000, 0.0000, 0.0000,\n",
       "          0.0000, 0.0000, 0.0000, 0.0000, 0.0000, 0.7176, 0.8824, 0.8471,\n",
       "          0.8745, 0.8941, 0.9216, 0.8902, 0.8784, 0.8706, 0.8784, 0.8667,\n",
       "          0.8745, 0.9608, 0.6784, 0.0000],\n",
       "         [0.0000, 0.0000, 0.0000, 0.0000, 0.0000, 0.0000, 0.0000, 0.0000,\n",
       "          0.0000, 0.0000, 0.0000, 0.0000, 0.0000, 0.7569, 0.8941, 0.8549,\n",
       "          0.8353, 0.7765, 0.7059, 0.8314, 0.8235, 0.8275, 0.8353, 0.8745,\n",
       "          0.8627, 0.9529, 0.7922, 0.0000],\n",
       "         [0.0000, 0.0000, 0.0000, 0.0000, 0.0000, 0.0000, 0.0000, 0.0000,\n",
       "          0.0000, 0.0039, 0.0118, 0.0000, 0.0471, 0.8588, 0.8627, 0.8314,\n",
       "          0.8549, 0.7529, 0.6627, 0.8902, 0.8157, 0.8549, 0.8784, 0.8314,\n",
       "          0.8863, 0.7725, 0.8196, 0.2039],\n",
       "         [0.0000, 0.0000, 0.0000, 0.0000, 0.0000, 0.0000, 0.0000, 0.0000,\n",
       "          0.0000, 0.0000, 0.0235, 0.0000, 0.3882, 0.9569, 0.8706, 0.8627,\n",
       "          0.8549, 0.7961, 0.7765, 0.8667, 0.8431, 0.8353, 0.8706, 0.8627,\n",
       "          0.9608, 0.4667, 0.6549, 0.2196],\n",
       "         [0.0000, 0.0000, 0.0000, 0.0000, 0.0000, 0.0000, 0.0000, 0.0000,\n",
       "          0.0000, 0.0157, 0.0000, 0.0000, 0.2157, 0.9255, 0.8941, 0.9020,\n",
       "          0.8941, 0.9412, 0.9098, 0.8353, 0.8549, 0.8745, 0.9176, 0.8510,\n",
       "          0.8510, 0.8196, 0.3608, 0.0000],\n",
       "         [0.0000, 0.0000, 0.0039, 0.0157, 0.0235, 0.0275, 0.0078, 0.0000,\n",
       "          0.0000, 0.0000, 0.0000, 0.0000, 0.9294, 0.8863, 0.8510, 0.8745,\n",
       "          0.8706, 0.8588, 0.8706, 0.8667, 0.8471, 0.8745, 0.8980, 0.8431,\n",
       "          0.8549, 1.0000, 0.3020, 0.0000],\n",
       "         [0.0000, 0.0118, 0.0000, 0.0000, 0.0000, 0.0000, 0.0000, 0.0000,\n",
       "          0.0000, 0.2431, 0.5686, 0.8000, 0.8941, 0.8118, 0.8353, 0.8667,\n",
       "          0.8549, 0.8157, 0.8275, 0.8549, 0.8784, 0.8745, 0.8588, 0.8431,\n",
       "          0.8784, 0.9569, 0.6235, 0.0000],\n",
       "         [0.0000, 0.0000, 0.0000, 0.0000, 0.0706, 0.1725, 0.3216, 0.4196,\n",
       "          0.7412, 0.8941, 0.8627, 0.8706, 0.8510, 0.8863, 0.7843, 0.8039,\n",
       "          0.8275, 0.9020, 0.8784, 0.9176, 0.6902, 0.7373, 0.9804, 0.9725,\n",
       "          0.9137, 0.9333, 0.8431, 0.0000],\n",
       "         [0.0000, 0.2235, 0.7333, 0.8157, 0.8784, 0.8667, 0.8784, 0.8157,\n",
       "          0.8000, 0.8392, 0.8157, 0.8196, 0.7843, 0.6235, 0.9608, 0.7569,\n",
       "          0.8078, 0.8745, 1.0000, 1.0000, 0.8667, 0.9176, 0.8667, 0.8275,\n",
       "          0.8627, 0.9098, 0.9647, 0.0000],\n",
       "         [0.0118, 0.7922, 0.8941, 0.8784, 0.8667, 0.8275, 0.8275, 0.8392,\n",
       "          0.8039, 0.8039, 0.8039, 0.8627, 0.9412, 0.3137, 0.5882, 1.0000,\n",
       "          0.8980, 0.8667, 0.7373, 0.6039, 0.7490, 0.8235, 0.8000, 0.8196,\n",
       "          0.8706, 0.8941, 0.8824, 0.0000],\n",
       "         [0.3843, 0.9137, 0.7765, 0.8235, 0.8706, 0.8980, 0.8980, 0.9176,\n",
       "          0.9765, 0.8627, 0.7608, 0.8431, 0.8510, 0.9451, 0.2549, 0.2863,\n",
       "          0.4157, 0.4588, 0.6588, 0.8588, 0.8667, 0.8431, 0.8510, 0.8745,\n",
       "          0.8745, 0.8784, 0.8980, 0.1137],\n",
       "         [0.2941, 0.8000, 0.8314, 0.8000, 0.7569, 0.8039, 0.8275, 0.8824,\n",
       "          0.8471, 0.7255, 0.7725, 0.8078, 0.7765, 0.8353, 0.9412, 0.7647,\n",
       "          0.8902, 0.9608, 0.9373, 0.8745, 0.8549, 0.8314, 0.8196, 0.8706,\n",
       "          0.8627, 0.8667, 0.9020, 0.2627],\n",
       "         [0.1882, 0.7961, 0.7176, 0.7608, 0.8353, 0.7725, 0.7255, 0.7451,\n",
       "          0.7608, 0.7529, 0.7922, 0.8392, 0.8588, 0.8667, 0.8627, 0.9255,\n",
       "          0.8824, 0.8471, 0.7804, 0.8078, 0.7294, 0.7098, 0.6941, 0.6745,\n",
       "          0.7098, 0.8039, 0.8078, 0.4510],\n",
       "         [0.0000, 0.4784, 0.8588, 0.7569, 0.7020, 0.6706, 0.7176, 0.7686,\n",
       "          0.8000, 0.8235, 0.8353, 0.8118, 0.8275, 0.8235, 0.7843, 0.7686,\n",
       "          0.7608, 0.7490, 0.7647, 0.7490, 0.7765, 0.7529, 0.6902, 0.6118,\n",
       "          0.6549, 0.6941, 0.8235, 0.3608],\n",
       "         [0.0000, 0.0000, 0.2902, 0.7412, 0.8314, 0.7490, 0.6863, 0.6745,\n",
       "          0.6863, 0.7098, 0.7255, 0.7373, 0.7412, 0.7373, 0.7569, 0.7765,\n",
       "          0.8000, 0.8196, 0.8235, 0.8235, 0.8275, 0.7373, 0.7373, 0.7608,\n",
       "          0.7529, 0.8471, 0.6667, 0.0000],\n",
       "         [0.0078, 0.0000, 0.0000, 0.0000, 0.2588, 0.7843, 0.8706, 0.9294,\n",
       "          0.9373, 0.9490, 0.9647, 0.9529, 0.9569, 0.8667, 0.8627, 0.7569,\n",
       "          0.7490, 0.7020, 0.7137, 0.7137, 0.7098, 0.6902, 0.6510, 0.6588,\n",
       "          0.3882, 0.2275, 0.0000, 0.0000],\n",
       "         [0.0000, 0.0000, 0.0000, 0.0000, 0.0000, 0.0000, 0.0000, 0.1569,\n",
       "          0.2392, 0.1725, 0.2824, 0.1608, 0.1373, 0.0000, 0.0000, 0.0000,\n",
       "          0.0000, 0.0000, 0.0000, 0.0000, 0.0000, 0.0000, 0.0000, 0.0000,\n",
       "          0.0000, 0.0000, 0.0000, 0.0000],\n",
       "         [0.0000, 0.0000, 0.0000, 0.0000, 0.0000, 0.0000, 0.0000, 0.0000,\n",
       "          0.0000, 0.0000, 0.0000, 0.0000, 0.0000, 0.0000, 0.0000, 0.0000,\n",
       "          0.0000, 0.0000, 0.0000, 0.0000, 0.0000, 0.0000, 0.0000, 0.0000,\n",
       "          0.0000, 0.0000, 0.0000, 0.0000],\n",
       "         [0.0000, 0.0000, 0.0000, 0.0000, 0.0000, 0.0000, 0.0000, 0.0000,\n",
       "          0.0000, 0.0000, 0.0000, 0.0000, 0.0000, 0.0000, 0.0000, 0.0000,\n",
       "          0.0000, 0.0000, 0.0000, 0.0000, 0.0000, 0.0000, 0.0000, 0.0000,\n",
       "          0.0000, 0.0000, 0.0000, 0.0000]]])"
      ]
     },
     "execution_count": 14,
     "metadata": {},
     "output_type": "execute_result"
    }
   ],
   "source": [
    "image"
   ]
  },
  {
   "cell_type": "code",
   "execution_count": 15,
   "metadata": {},
   "outputs": [
    {
     "data": {
      "text/plain": [
       "torch.Size([1, 28, 28])"
      ]
     },
     "execution_count": 15,
     "metadata": {},
     "output_type": "execute_result"
    }
   ],
   "source": [
    "image.shape"
   ]
  },
  {
   "cell_type": "code",
   "execution_count": 22,
   "metadata": {},
   "outputs": [
    {
     "data": {
      "text/plain": [
       "9"
      ]
     },
     "execution_count": 22,
     "metadata": {},
     "output_type": "execute_result"
    }
   ],
   "source": [
    "label"
   ]
  },
  {
   "cell_type": "code",
   "execution_count": 20,
   "metadata": {},
   "outputs": [],
   "source": [
    "import matplotlib.pyplot as plt"
   ]
  },
  {
   "cell_type": "code",
   "execution_count": 23,
   "metadata": {},
   "outputs": [
    {
     "name": "stdout",
     "output_type": "stream",
     "text": [
      "9\n"
     ]
    },
    {
     "data": {
      "image/png": "[encoded data removed]",
      "text/plain": [
       "<Figure size 432x288 with 1 Axes>"
      ]
     },
     "metadata": {
      "needs_background": "light"
     },
     "output_type": "display_data"
    }
   ],
   "source": [
    "plt.imshow(image.squeeze(), cmap = \"gray\")\n",
    "print(label)"
   ]
  },
  {
   "cell_type": "code",
   "execution_count": 29,
   "metadata": {},
   "outputs": [],
   "source": [
    "batch = next(iter(train_set))"
   ]
  },
  {
   "cell_type": "code",
   "execution_count": 30,
   "metadata": {},
   "outputs": [
    {
     "data": {
      "text/plain": [
       "2"
      ]
     },
     "execution_count": 30,
     "metadata": {},
     "output_type": "execute_result"
    }
   ],
   "source": [
    "len(batch)"
   ]
  },
  {
   "cell_type": "code",
   "execution_count": 31,
   "metadata": {},
   "outputs": [
    {
     "data": {
      "text/plain": [
       "tuple"
      ]
     },
     "execution_count": 31,
     "metadata": {},
     "output_type": "execute_result"
    }
   ],
   "source": [
    "type(batch)"
   ]
  },
  {
   "cell_type": "code",
   "execution_count": 32,
   "metadata": {},
   "outputs": [],
   "source": [
    "images, labels = batch"
   ]
  },
  {
   "cell_type": "code",
   "execution_count": 33,
   "metadata": {},
   "outputs": [
    {
     "data": {
      "text/plain": [
       "torch.Size([1, 28, 28])"
      ]
     },
     "execution_count": 33,
     "metadata": {},
     "output_type": "execute_result"
    }
   ],
   "source": [
    "images.shape"
   ]
  },
  {
   "cell_type": "code",
   "execution_count": null,
   "metadata": {},
   "outputs": [],
   "source": []
  },
  {
   "cell_type": "code",
   "execution_count": null,
   "metadata": {},
   "outputs": [],
   "source": []
  }
 ],
 "metadata": {
  "kernelspec": {
   "display_name": "Python 3",
   "language": "python",
   "name": "python3"
  }
 },
 "nbformat": 4,
 "nbformat_minor": 2
}
