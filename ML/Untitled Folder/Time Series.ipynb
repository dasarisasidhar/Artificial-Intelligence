{
 "cells": [
  {
   "cell_type": "markdown",
   "metadata": {},
   "source": [
    "# Algo avaliable"
   ]
  },
  {
   "cell_type": "markdown",
   "metadata": {},
   "source": [
    "Autoregression (AR)\n",
    "Moving Average (MA)\n",
    "Autoregressive Moving Average (ARMA)\n",
    "Autoregressive Integrated Moving Average (ARIMA)\n",
    "Seasonal Autoregressive Integrated Moving-Average (SARIMA)\n",
    "Seasonal Autoregressive Integrated Moving-Average with Exogenous Regressors (SARIMAX)\n",
    "Vector Autoregression (VAR)\n",
    "Vector Autoregression Moving-Average (VARMA)\n",
    "Vector Autoregression Moving-Average with Exogenous Regressors (VARMAX)\n",
    "Simple Exponential Smoothing (SES)\n",
    "Holt Winter’s Exponential Smoothing (HWES)"
   ]
  },
  {
   "cell_type": "code",
   "execution_count": null,
   "metadata": {},
   "outputs": [],
   "source": [
    "import datetime\n",
    "df['Date'] = pd.to_datetime(df['Date'])\n",
    "df['Date'] = df['Date'].dt.strftime('%d.%m.%Y')\n",
    "df['year'] = pd.DatetimeIndex(df['Date']).year\n",
    "df['month'] = pd.DatetimeIndex(df['Date']).month\n",
    "df['day'] = pd.DatetimeIndex(df['Date']).day\n",
    "df['dayofyear'] = pd.DatetimeIndex(df['Date']).dayofyear\n",
    "df['weekofyear'] = pd.DatetimeIndex(df['Date']).weekofyear\n",
    "df['weekday'] = pd.DatetimeIndex(df['Date']).weekday\n",
    "df['quarter'] = pd.DatetimeIndex(df['Date']).quarter\n",
    "df['is_month_start'] = pd.DatetimeIndex(df['Date']).is_month_start\n",
    "df['is_month_end'] = pd.DatetimeIndex(df['Date']).is_month_end\n",
    "print(df.info())"
   ]
  },
  {
   "cell_type": "code",
   "execution_count": null,
   "metadata": {},
   "outputs": [],
   "source": [
    "df = pd.get_dummies(df, columns=['year'], drop_first=True, prefix='year')\n",
    "\n",
    "df = pd.get_dummies(df, columns=['month'], drop_first=True, prefix='month')\n",
    "\n",
    "df = pd.get_dummies(df, columns=['weekday'], drop_first=True, prefix='wday')\n",
    "df = pd.get_dummies(df, columns=['quarter'], drop_first=True, prefix='qrtr')\n",
    "\n",
    "df = pd.get_dummies(df, columns=['is_month_start'], drop_first=True, prefix='m_start')\n",
    "\n",
    "df = pd.get_dummies(df, columns=['is_month_end'], drop_first=True, prefix='m_end')\n",
    "\n",
    "df.info()"
   ]
  }
 ],
 "metadata": {
  "kernelspec": {
   "display_name": "Python 3",
   "language": "python",
   "name": "python3"
  },
  "language_info": {
   "codemirror_mode": {
    "name": "ipython",
    "version": 3
   },
   "file_extension": ".py",
   "mimetype": "text/x-python",
   "name": "python",
   "nbconvert_exporter": "python",
   "pygments_lexer": "ipython3",
   "version": "3.7.4"
  }
 },
 "nbformat": 4,
 "nbformat_minor": 2
}
